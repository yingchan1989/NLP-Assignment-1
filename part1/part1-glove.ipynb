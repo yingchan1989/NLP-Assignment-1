{
 "cells": [
  {
   "cell_type": "markdown",
   "metadata": {},
   "source": [
    "# GloVe: Global Vectors for Word Representation (25 points)\n",
    "\n",
    "[GloVe](http://nlp.stanford.edu/projects/glove/) \\[[PDF](http://nlp.stanford.edu/pubs/glove.pdf)\\] is (yet) another way to train word vectors.  Its main advantage relative to Word2Vec is its training speed.\n",
    "\n",
    "## Approach\n",
    "The intuition of the GloVe approach to training word vectors is as follows:\n",
    "\n",
    "1. From the training data, estimate $P(k | word)$.\n",
    "2. Notice that some words, $k$, are far more common than others in the context of $word$.\n",
    "3. In particular, in the table below, notice in the bottom row that $k$'s that are related to ice (vs. steam) result in quite large numbers where as those related to steam (vs. ice) are incredibly low.  Unrelated numbers are about 1.0.\n",
    "\n",
    "<img src=\"glove_table.png\">\n",
    "\n",
    "At a high level then training $F(w_i, w_j, \\tilde{w}_k) = \\frac{P_{ij}}{P_{jk}}$ seems like a useful thing to do.  In this case, F is a (simple) neural network accepting word vectors $w_i$ and $w_j$ for words $i$ and $j$, and a context vector $\\tilde{w}_k$ for word $k$.\n",
    "\n",
    "With some reasonable assumptions about desireable properties of vector embeddings (see Section 3 of the paper), the authors make this more concrete and simplify to a simple objective function based directly on the cooccurrence matrix instead of probabilities:\n",
    "\n",
    "$$J = \\sum\\limits_{i,j}^V f(X_{ij})(w_i^T\\tilde{w}_j + b_i + \\tilde{b}_j - log(X_{ij}))^2$$\n",
    "\n",
    "where $f(.)$ is the weight of the $j$'th word appearing in the $i$th word's context window $X_{ij}$ times.  This weighting function is described in detail immediately before Equation (9) in the paper.\n",
    "\n",
    "Note that $f(0) = 0$ pairs $i,j$ where $X_{ij} = 0$ can be skipped in the sum above.\n",
    "\n",
    "## vs. Word2Vec\n",
    "Similar to Word2Vec, GloVe embeds words in a vector space based on the \"[company it keeps](https://en.wikipedia.org/wiki/John_Rupert_Firth)\" - based on cooccurrance between words in small context windows.  Unlike Word2Vec which repeatedly iterates over the training data one context window at a time, GloVe does a single pass over the training data to collect cooccurrance statistics.  GloVe then trains entirely based on this table of counts.\n",
    "\n",
    "## The Plan\n",
    "In this assignment, you are going to train GloVe models and visualize them.\n",
    "\n",
    "1. Parsing utilities.\n",
    "\n",
    "2. Phrases.  Implement Section 4 (Equation 6) of the [Word2Vec](https://papers.nips.cc/paper/5021-distributed-representations-of-words-and-phrases-and-their-compositionality.pdf) paper.  This allows us to treat \"los angeles\" as a single item in our vocabulary.\n",
    "\n",
    "3. Implement TensorFlow for GloVe & Train embeddings.\n",
    "\n",
    "5. Visualize embeddings.\n",
    "\n",
    "\n",
    "As usual, we begin by importing some useful libraries."
   ]
  },
  {
   "cell_type": "code",
   "execution_count": 1,
   "metadata": {
    "collapsed": false
   },
   "outputs": [
    {
     "data": {
      "text/plain": [
       "<module 'word_utils' from 'word_utils.pyc'>"
      ]
     },
     "execution_count": 1,
     "metadata": {},
     "output_type": "execute_result"
    }
   ],
   "source": [
    "import glove\n",
    "import glove_test\n",
    "import nltk\n",
    "import numpy as np\n",
    "import random\n",
    "import tensorflow as tf\n",
    "import time\n",
    "import unittest\n",
    "import word_stream\n",
    "import word_stream_test\n",
    "import word_utils\n",
    "reload(glove)\n",
    "reload(glove_test)\n",
    "reload(word_stream)\n",
    "reload(word_stream_test)\n",
    "reload(word_utils)"
   ]
  },
  {
   "cell_type": "code",
   "execution_count": 2,
   "metadata": {
    "collapsed": false
   },
   "outputs": [],
   "source": [
    "# Lower casing sometimes causes more harm than good,\n",
    "# but we do it here anyways in absence of more careful normalization.\n",
    "\n",
    "# The Brown corpus is only 1m tokens.  Test your code with this, then if you want, run with Wikipedia.\n",
    "\n",
    "words = [w.lower() for w in nltk.corpus.brown.words()]\n",
    "\n",
    "# Use first billion bytes of Wikipedia, consisting of 17m tokens.  While this produces better\n",
    "# embeddings, all of the code runs correspondingly longer.  We recommend getting everything to work\n",
    "# with the Brown corpus before trying this.\n",
    "\n",
    "# If you are going to try this using Google Compute Engine, we recommend using the\n",
    "# n1-highcpu-16 (16 vCPUs, 14.4 GB memory) version.\n",
    "\n",
    "# You should not spend time debugging on this instance though or you will find yourself\n",
    "# without GCE credit!\n",
    "\n",
    "# words = open('text8').read().split()"
   ]
  },
  {
   "cell_type": "markdown",
   "metadata": {},
   "source": [
    "The data looks like this:"
   ]
  },
  {
   "cell_type": "code",
   "execution_count": 3,
   "metadata": {
    "collapsed": false
   },
   "outputs": [
    {
     "data": {
      "text/plain": [
       "([u'the',\n",
       "  u'fulton',\n",
       "  u'county',\n",
       "  u'grand',\n",
       "  u'jury',\n",
       "  u'said',\n",
       "  u'friday',\n",
       "  u'an',\n",
       "  u'investigation',\n",
       "  u'of'],\n",
       " 1161192)"
      ]
     },
     "execution_count": 3,
     "metadata": {},
     "output_type": "execute_result"
    }
   ],
   "source": [
    "words[:10], len(words)"
   ]
  },
  {
   "cell_type": "markdown",
   "metadata": {},
   "source": [
    "## 1.  Parsing Utilities (8 points)\n",
    "\n",
    "In **word_stream.py** (find this in the same directory as this notebook), implement:\n",
    "1.  context_windows\n",
    "2.  cooccurrence_table\n",
    "\n",
    "You may find it helpful to run the follow unit tests to check your code."
   ]
  },
  {
   "cell_type": "code",
   "execution_count": 4,
   "metadata": {
    "collapsed": false
   },
   "outputs": [
    {
     "name": "stderr",
     "output_type": "stream",
     "text": [
      "test_context_windows (word_stream_test.TestWordStreams) ... ok\n",
      "\n",
      "----------------------------------------------------------------------\n",
      "Ran 1 test in 0.001s\n",
      "\n",
      "OK\n"
     ]
    },
    {
     "data": {
      "text/plain": [
       "<unittest.runner.TextTestResult run=1 errors=0 failures=0>"
      ]
     },
     "execution_count": 4,
     "metadata": {},
     "output_type": "execute_result"
    }
   ],
   "source": [
    "reload(word_stream)\n",
    "reload(word_stream_test)\n",
    "unittest.TextTestRunner(verbosity=2).run(\n",
    "    unittest.TestLoader().loadTestsFromName(\n",
    "        'TestWordStreams.test_context_windows', word_stream_test))"
   ]
  },
  {
   "cell_type": "code",
   "execution_count": 5,
   "metadata": {
    "collapsed": false
   },
   "outputs": [
    {
     "name": "stderr",
     "output_type": "stream",
     "text": [
      "test_cooccurrence_table (word_stream_test.TestWordStreams) ... ok\n",
      "\n",
      "----------------------------------------------------------------------\n",
      "Ran 1 test in 0.001s\n",
      "\n",
      "OK\n"
     ]
    },
    {
     "data": {
      "text/plain": [
       "<unittest.runner.TextTestResult run=1 errors=0 failures=0>"
      ]
     },
     "execution_count": 5,
     "metadata": {},
     "output_type": "execute_result"
    }
   ],
   "source": [
    "reload(word_stream)\n",
    "reload(word_stream_test)\n",
    "unittest.TextTestRunner(verbosity=2).run(\n",
    "    unittest.TestLoader().loadTestsFromName(\n",
    "        'TestWordStreams.test_cooccurrence_table', word_stream_test))"
   ]
  },
  {
   "cell_type": "markdown",
   "metadata": {},
   "source": [
    "## 2.  Phrases (4 points)\n",
    "\n",
    "Implement the function **score_bigram** in **word_stream.py**.\n",
    "Specifically, read the introduction to Section 4 of the [Word2Vec](https://papers.nips.cc/paper/5021-distributed-representations-of-words-and-phrases-and-their-compositionality.pdf) paper and implement Equation 6."
   ]
  },
  {
   "cell_type": "code",
   "execution_count": 6,
   "metadata": {
    "collapsed": false
   },
   "outputs": [
    {
     "name": "stderr",
     "output_type": "stream",
     "text": [
      "test_score_bigram (word_stream_test.TestWordStreams) ... ok\n",
      "\n",
      "----------------------------------------------------------------------\n",
      "Ran 1 test in 0.001s\n",
      "\n",
      "OK\n"
     ]
    },
    {
     "data": {
      "text/plain": [
       "<unittest.runner.TextTestResult run=1 errors=0 failures=0>"
      ]
     },
     "execution_count": 6,
     "metadata": {},
     "output_type": "execute_result"
    }
   ],
   "source": [
    "reload(word_stream)\n",
    "reload(word_stream_test)\n",
    "unittest.TextTestRunner(verbosity=2).run(\n",
    "    unittest.TestLoader().loadTestsFromName(\n",
    "        'TestWordStreams.test_score_bigram', word_stream_test))"
   ]
  },
  {
   "cell_type": "markdown",
   "metadata": {},
   "source": [
    "Use your scoring code to see the best scoring phrases."
   ]
  },
  {
   "cell_type": "code",
   "execution_count": 7,
   "metadata": {
    "collapsed": false
   },
   "outputs": [
    {
     "data": {
      "text/plain": [
       "[(0.0010046585881106226, (u'united', u'states')),\n",
       " (0.0007999304408312321, (u'per', u'cent')),\n",
       " (0.0003969459464933066, (u'new', u'york')),\n",
       " (0.0002740246606491165, (u'!', u'!')),\n",
       " (0.00016260162601626016, (u'years', u'ago')),\n",
       " (0.0001198196713945512, (u'rather', u'than')),\n",
       " (0.00010962793797446646, (u'at', u'least')),\n",
       " (0.00010197850560080392, (u'?', u'?')),\n",
       " (8.742772913418768e-05, (u'i', u'am')),\n",
       " (8.663554414933128e-05, (u';', u';')),\n",
       " (7.894371792123283e-05, (u'more', u'than')),\n",
       " (7.751984308788592e-05, (u'has', u'been')),\n",
       " (7.085213719965758e-05, (u'did', u'not')),\n",
       " (5.644137731738033e-05, (u'have', u'been')),\n",
       " (5.63544066015162e-05, (u'does', u'not')),\n",
       " (5.537561383345523e-05, (u'those', u'who')),\n",
       " (5.2014473263615025e-05, (u'had', u'been')),\n",
       " (4.291181568898364e-05, (u'should', u'be')),\n",
       " (4.210590843420046e-05, (u'must', u'be')),\n",
       " (4.026596114737409e-05, (u'may', u'be')),\n",
       " (3.875715493414917e-05, (u'no', u'longer')),\n",
       " (3.601755886968228e-05, (u'can', u'be')),\n",
       " (3.4436115592191174e-05, (u'will', u'be')),\n",
       " (3.35128585690713e-05, (u'his', u'own')),\n",
       " (3.181707304139401e-05, (u'as', u'well')),\n",
       " (3.0681513109954875e-05, (u'less', u'than')),\n",
       " (2.9294203826874606e-05, (u'would', u'be')),\n",
       " (2.801125160665137e-05, (u'they', u'were')),\n",
       " (2.71711463859696e-05, (u':', u'``')),\n",
       " (2.6346295710823058e-05, (u'for', u'example')),\n",
       " (2.4552549584269893e-05, (u'i', u\"don't\")),\n",
       " (2.3295678457515476e-05, (u'their', u'own')),\n",
       " (2.167249902819592e-05, (u'well', u'as')),\n",
       " (2.018958015768062e-05, (u'would', u'have')),\n",
       " (1.975911960345411e-05, (u\"''\", u'?')),\n",
       " (1.972712720302693e-05, (u'a', u'few')),\n",
       " (1.952142150653317e-05, (u'there', u'are')),\n",
       " (1.879414247818296e-05, (u'fact', u'that')),\n",
       " (1.7822460349303114e-05, (u\"''\", u'!')),\n",
       " (1.7665521831298375e-05, (u'there', u'was')),\n",
       " (1.7583627455269743e-05, (u'if', u'you')),\n",
       " (1.7347213225897322e-05, (u'do', u'not')),\n",
       " (1.7197521762342212e-05, (u'he', u'said')),\n",
       " (1.6426522749537374e-05, (u'there', u'is')),\n",
       " (1.6384450124387153e-05, (u'he', u'had')),\n",
       " (1.6105829814828975e-05, (u'able', u'to')),\n",
       " (1.5717062694734406e-05, (u'they', u'are')),\n",
       " (1.568749889996197e-05, (u'we', u'have')),\n",
       " (1.559366720228198e-05, (u'number', u'of')),\n",
       " (1.547063943653447e-05, (u'it', u'is')),\n",
       " (1.516797717989501e-05, (u'might', u'be')),\n",
       " (1.5054799470071059e-05, (u'away', u'from')),\n",
       " (1.488798213677217e-05, (u'could', u'be')),\n",
       " (1.4510949739427992e-05, (u'there', u'were')),\n",
       " (1.391030874837461e-05, (u'it', u'was')),\n",
       " (1.3487389291012903e-05, (u'she', u'had')),\n",
       " (1.322971630527098e-05, (u'of', u'course')),\n",
       " (1.3222137076769452e-05, (u'going', u'to')),\n",
       " (1.228550013154172e-05, (u'not', u'only')),\n",
       " (1.2229499362814194e-05, (u'to', u'make')),\n",
       " (1.2142718368932926e-05, (u'however', u',')),\n",
       " (1.1787643568756511e-05, (u'could', u'not')),\n",
       " (1.1775212758469191e-05, (u'he', u'could')),\n",
       " (1.1412453808767173e-05, (u'when', u'he')),\n",
       " (1.1406554522102218e-05, (u'kind', u'of')),\n",
       " (1.0999975708386977e-05, (u'the', u'same')),\n",
       " (1.0985389432055367e-05, (u'part', u'of')),\n",
       " (1.0869025005506826e-05, (u'``', u'i')),\n",
       " (1.0819551857596837e-05, (u'you', u'can')),\n",
       " (1.0698123905671076e-05, (u'she', u'said')),\n",
       " (1.058035189466672e-05, (u'she', u'was')),\n",
       " (1.0542757818980848e-05, (u'he', u'was')),\n",
       " (1.0475459965278612e-05, (u'such', u'as')),\n",
       " (1.0427991218697544e-05, (u'a', u'little')),\n",
       " (1.0286170199444368e-05, (u'i', u'think')),\n",
       " (1.0113595909252727e-05, (u'his', u'head')),\n",
       " (9.830371478815549e-06, (u'according', u'to')),\n",
       " (9.699683530139992e-06, (u'to', u'be')),\n",
       " (9.697666567886576e-06, (u'to', u'get')),\n",
       " (9.697166916905062e-06, (u'we', u'are')),\n",
       " (9.265645041652831e-06, (u'must', u'have')),\n",
       " (9.098226296491882e-06, (u'is', u'not')),\n",
       " (8.68765370549779e-06, (u'the', u'united')),\n",
       " (8.443263846835441e-06, (u'trying', u'to')),\n",
       " (8.229719610657865e-06, (u',', u'however')),\n",
       " (8.133877110131069e-06, (u'to', u'do')),\n",
       " (8.131828356827397e-06, (u'who', u'had')),\n",
       " (8.126379735499794e-06, (u'they', u'had')),\n",
       " (7.972674623362928e-06, (u'to', u'see')),\n",
       " (7.831300675480985e-06, (u'.', u'``')),\n",
       " (7.810777576171293e-06, (u'i', u'have')),\n",
       " (7.452121605878529e-06, (u\"''\", u'.')),\n",
       " (7.423672607209871e-06, (u'he', u'did')),\n",
       " (7.342807964359176e-06, (u'want', u'to')),\n",
       " (7.232555592521951e-06, (u'seemed', u'to')),\n",
       " (7.221116470189894e-06, (u'a', u'good')),\n",
       " (6.946247467320993e-06, (u'he', u'would')),\n",
       " (6.931027039586726e-06, (u'in', u'addition')),\n",
       " (6.898106553874212e-06, (u'it', u'would')),\n",
       " (6.871151133105647e-06, (u',', u'but')),\n",
       " (6.831123350033027e-06, (u'to', u'take')),\n",
       " (6.775649165663199e-06, (u'?', u'``')),\n",
       " (6.514784995451539e-06, (u'so', u'that')),\n",
       " (6.402515784941225e-06, (u'this', u'is')),\n",
       " (6.371537069602671e-06, (u'to', u'say')),\n",
       " (6.35695261153585e-06, (u'in', u'order')),\n",
       " (6.286530412073138e-06, (u'a', u'man')),\n",
       " (6.244750716266192e-06, (u'end', u'of')),\n",
       " (6.02837623676604e-06, (u'do', u'you')),\n",
       " (5.901468721202447e-06, (u'the', u'first')),\n",
       " (5.8788233071033205e-06, (u'was', u'not')),\n",
       " (5.838804769790464e-06, (u'during', u'the')),\n",
       " (5.827966496500522e-06, (u'out', u'of')),\n",
       " (5.801559312577512e-06, (u'to', u'go')),\n",
       " (5.7546872727098345e-06, (u'would', u'not')),\n",
       " (5.745482773765871e-06, (u'we', u'can')),\n",
       " (5.661778559662407e-06, (u'in', u'fact')),\n",
       " (5.508018089840453e-06, (u'i', u'had')),\n",
       " (5.433449069760409e-06, (u'.', u'he')),\n",
       " (5.408978426925895e-06, (u'a', u'small')),\n",
       " (5.372075077026961e-06, (u'he', u'has')),\n",
       " (5.334310104783632e-06, (u'enough', u'to')),\n",
       " (5.25105332412122e-06, (u'use', u'of')),\n",
       " (5.2472694295530554e-06, (u'may', u'have')),\n",
       " (5.23083014433495e-06, (u'as', u'a')),\n",
       " (5.210474641984566e-06, (u'at', u'all')),\n",
       " (5.20850616962358e-06, (u'.', u'but')),\n",
       " (5.0221783399888596e-06, (u'one', u'of')),\n",
       " (5.016170992542779e-06, (u'on', u'the')),\n",
       " (5.012057437785135e-06, (u'to', u'give')),\n",
       " (5.003215399763581e-06, (u'if', u'he')),\n",
       " (4.9860932429056775e-06, (u'are', u'not')),\n",
       " (4.907467807011186e-06, (u'might', u'have')),\n",
       " (4.905242068690741e-06, (u'like', u'a')),\n",
       " (4.9011823612328236e-06, (u'began', u'to')),\n",
       " (4.8722735987567164e-06, (u'and', u'then')),\n",
       " (4.858267547141241e-06, (u'.', u'there')),\n",
       " (4.830744445843301e-06, (u'such', u'a')),\n",
       " (4.81462068995703e-06, (u'with', u'a')),\n",
       " (4.792571955859675e-06, (u'course', u',')),\n",
       " (4.778652802202003e-06, (u'to', u'keep')),\n",
       " (4.739665517990872e-06, (u'the', u'world')),\n",
       " (4.726153755457043e-06, (u'.', u'she')),\n",
       " (4.723301611442907e-06, (u'seems', u'to')),\n",
       " (4.72052517907847e-06, (u'.', u'if')),\n",
       " (4.680270417194007e-06, (u'sense', u'of')),\n",
       " (4.6672507322244e-06, (u'a', u'new')),\n",
       " (4.647664759715732e-06, (u'members', u'of')),\n",
       " (4.62672273252821e-06, (u'that', u'he')),\n",
       " (4.588325061939795e-06, (u'into', u'the')),\n",
       " (4.53786214606155e-06, (u'i', u'was')),\n",
       " (4.497555578543062e-06, (u'tried', u'to')),\n",
       " (4.358441911750471e-06, (u'across', u'the')),\n",
       " (4.354596628759947e-06, (u'that', u'they')),\n",
       " (4.304953250169851e-06, (u'.', u'i')),\n",
       " (4.2874905317917425e-06, (u'from', u'the')),\n",
       " (4.260402625089682e-06, (u'no', u'one')),\n",
       " (4.235773191495311e-06, (u'``', u'you')),\n",
       " (4.226957562755056e-06, (u'example', u',')),\n",
       " (4.13691224679583e-06, (u'at', u'the')),\n",
       " (4.116360920490454e-06, (u'the', u'whole')),\n",
       " (4.115775498376881e-06, (u'back', u'to')),\n",
       " (4.0919846983155055e-06, (u'.', u'thus')),\n",
       " (4.055117152334531e-06, (u'as', u'an')),\n",
       " (4.019685740968771e-06, (u'each', u'other')),\n",
       " (4.016276630424232e-06, (u'but', u'he')),\n",
       " (4.01599959432852e-06, (u'.', u'it')),\n",
       " (4.008057470807336e-06, (u'in', u'this')),\n",
       " (3.990050410296884e-06, (u'the', u'next')),\n",
       " (3.9685962414063325e-06, (u'in', u'the')),\n",
       " (3.9592686338893875e-06, (u'through', u'the')),\n",
       " (3.908928670054594e-06, (u'the', u'most')),\n",
       " (3.858192836764863e-06, (u'was', u'no')),\n",
       " (3.847390930314517e-06, (u'1', u')')),\n",
       " (3.809961652735965e-06, (u'instead', u'of')),\n",
       " (3.781237005690407e-06, (u'.', u'this')),\n",
       " (3.7746527192721434e-06, (u'of', u'the')),\n",
       " (3.7683037308044274e-06, (u\"''\", u',')),\n",
       " (3.7675110892462357e-06, (u'.', u'they')),\n",
       " (3.703944550692133e-06, (u'the', u'end')),\n",
       " (3.6953776983955902e-06, (u'a', u'great')),\n",
       " (3.684843341356956e-06, (u',', u'and')),\n",
       " (3.670090467107965e-06, (u'because', u'of')),\n",
       " (3.6588066944106873e-06, (u'in', u'which')),\n",
       " (3.6426697148944138e-06, (u'.', u'when')),\n",
       " (3.636584418722022e-06, (u'just', u'as')),\n",
       " (3.628638375221528e-06, (u'i', u'could')),\n",
       " (3.6219082192823096e-06, (u'but', u'it')),\n",
       " (3.6056911412590735e-06, (u'not', u'be')),\n",
       " (3.5966151033111976e-06, (u'of', u'these')),\n",
       " (3.5754399641602915e-06, (u'as', u'if')),\n",
       " (3.5362030736294824e-06, (u'to', u'find')),\n",
       " (3.5229436381293837e-06, (u'said', u',')),\n",
       " (3.516833697490552e-06, (u',', u'who')),\n",
       " (3.4987250645864648e-06, (u'on', u'his')),\n",
       " (3.4902341640305016e-06, (u'in', u'his')),\n",
       " (3.441845137164025e-06, (u'against', u'the')),\n",
       " (3.394743334998568e-06, (u'some', u'of')),\n",
       " (3.389567568270283e-06, (u'said', u'.')),\n",
       " (3.3587766636162225e-06, (u'by', u'the')),\n",
       " (3.3230087451621145e-06, (u'when', u'i')),\n",
       " (3.318130076090944e-06, (u'what', u'is')),\n",
       " (3.3122879477642978e-06, (u'of', u'our')),\n",
       " (3.2980696398398017e-06, (u'the', u'door')),\n",
       " (3.2710922383826166e-06, (u'is', u'a')),\n",
       " (3.2453476986226214e-06, (u'.', u'then')),\n",
       " (3.225901841183476e-06, (u'so', u'much')),\n",
       " (3.201758335376651e-06, (u'.', u'we')),\n",
       " (3.1817438903818896e-06, (u'sort', u'of')),\n",
       " (3.13951978205281e-06, (u'for', u'a')),\n",
       " (3.139050288391217e-06, (u'which', u'is')),\n",
       " (3.127850312837162e-06, (u'most', u'of')),\n",
       " (3.075707878793429e-06, (u'over', u'the')),\n",
       " (3.0522841004995062e-06, (u'is', u'no')),\n",
       " (3.048658430120114e-06, (u'him', u'.')),\n",
       " (3.047369136965668e-06, (u'you', u'are')),\n",
       " (3.0447645975383312e-06, (u'it', u'has')),\n",
       " (3.0283390373250226e-06, (u'the', u'state')),\n",
       " (3.0133061995621594e-06, (u'they', u'have')),\n",
       " (3.005399776200028e-06, (u'the', u'fact')),\n",
       " (2.9937546055374276e-06, (u',', u'then')),\n",
       " (2.9737468012730007e-06, (u'was', u'a')),\n",
       " (2.9490978341088232e-06, (u'of', u'them')),\n",
       " (2.924456596670979e-06, (u'.', u'these')),\n",
       " (2.8972452408476726e-06, (u'the', u'old')),\n",
       " (2.8468569885458742e-06, (u'order', u'to')),\n",
       " (2.828918834959284e-06, (u'but', u'i')),\n",
       " (2.809701345432646e-06, (u'with', u'the')),\n",
       " (2.805126349057203e-06, (u'the', u'house')),\n",
       " (2.79233825711634e-06, (u'into', u'a')),\n",
       " (2.7871735623067862e-06, (u'of', u'his')),\n",
       " (2.7568791025807144e-06, (u'in', u'their')),\n",
       " (2.740216513640798e-06, (u'a', u'number')),\n",
       " (2.72039166896527e-06, (u'the', u'second')),\n",
       " (2.7064936224860904e-06, (u'wanted', u'to')),\n",
       " (2.7038228578866843e-06, (u'among', u'the')),\n",
       " (2.700655138498983e-06, (u',', u'which')),\n",
       " (2.6550189865681398e-06, (u'in', u'a')),\n",
       " (2.6534410655037026e-06, (u'the', u'other')),\n",
       " (2.6465990936986063e-06, (u'the', u'best')),\n",
       " (2.6411817280935103e-06, (u'.', u'mr.')),\n",
       " (2.638733766009461e-06, (u'for', u'the')),\n",
       " (2.603818450814163e-06, (u'between', u'the')),\n",
       " (2.6004010621813823e-06, (u'the', u'last')),\n",
       " (2.5960951843876606e-06, (u'the', u'new')),\n",
       " (2.58587697431707e-06, (u\"''\", u'--')),\n",
       " (2.5799582873322286e-06, (u',', u'or')),\n",
       " (2.576067848818478e-06, (u'aj', u'.')),\n",
       " (2.575714007017155e-06, (u'by', u'a')),\n",
       " (2.5689375368524877e-06, (u'with', u'his')),\n",
       " (2.565299703964414e-06, (u'used', u'to')),\n",
       " (2.5502645276708447e-06, (u'``', u'what')),\n",
       " (2.5414559111405355e-06, (u'as', u'he')),\n",
       " (2.504609594814278e-06, (u',', u'he')),\n",
       " (2.490131362455413e-06, (u'of', u'their')),\n",
       " (2.4891318683876374e-06, (u'that', u'it')),\n",
       " (2.4431192121618474e-06, (u'on', u'a')),\n",
       " (2.4234046657692595e-06, (u'of', u'this')),\n",
       " (2.3953958161757712e-06, (u'to', u'me')),\n",
       " (2.3904158362302717e-06, (u'the', u'past')),\n",
       " (2.350561612233011e-06, (u'a', u'long')),\n",
       " (2.349572994477916e-06, (u'.', u'however')),\n",
       " (2.337157702387006e-06, (u'seem', u'to')),\n",
       " (2.3317149209698404e-06, (u'.', u'after')),\n",
       " (2.3234983733133003e-06, (u',', u'where')),\n",
       " (2.3232908767795077e-06, (u'as', u'they')),\n",
       " (2.317804200357745e-06, (u'to', u'have')),\n",
       " (2.3091986410144117e-06, (u')', u'.')),\n",
       " (2.3066434503003396e-06, (u'side', u'of')),\n",
       " (2.305889606141919e-06, (u'up', u'to')),\n",
       " (2.2986750281295488e-06, (u',', u'though')),\n",
       " (2.2842358797381747e-06, (u'under', u'the')),\n",
       " (2.255517672883174e-06, (u';', u'but')),\n",
       " (2.2516597102232463e-06, (u'when', u'they')),\n",
       " (2.242965020319661e-06, (u',', u'although')),\n",
       " (2.2404677142847043e-06, (u',', u'too')),\n",
       " (2.2302371369330753e-06, (u'be', u'made')),\n",
       " (2.2278284286947867e-06, (u'you', u'know')),\n",
       " (2.2101163758878888e-06, (u'them', u'.')),\n",
       " (2.1974169120041956e-06, (u'af', u'.')),\n",
       " (2.187816387368033e-06, (u'the', u'way')),\n",
       " (2.186058845886084e-06, (u'he', u'is')),\n",
       " (2.1724953399974957e-06, (u'i', u'said')),\n",
       " (2.1664693374178502e-06, (u'a', u'very')),\n",
       " (2.1407888115130962e-06, (u'what', u'he')),\n",
       " (2.1356438966348354e-06, (u'it', u'will')),\n",
       " (2.1146156470616324e-06, (u',', u'i')),\n",
       " (2.094815541017536e-06, (u'had', u'no')),\n",
       " (2.0918841846602673e-06, (u',', u'she')),\n",
       " (2.0774386013021387e-06, (u'if', u'it')),\n",
       " (2.0757276543127873e-06, (u'amount', u'of')),\n",
       " (2.046814369550141e-06, (u',', u'as')),\n",
       " (2.0437722630406645e-06, (u')', u',')),\n",
       " (2.034485841096257e-06, (u'the', u'american')),\n",
       " (2.0108687455698047e-06, (u'if', u'they')),\n",
       " (1.999974823846335e-06, (u'which', u'he')),\n",
       " (1.949695394122371e-06, (u'when', u'the')),\n",
       " (1.9345193307964116e-06, (u'and', u'other')),\n",
       " (1.9262942851806874e-06, (u',', u'``')),\n",
       " (1.9170547903844364e-06, (u'in', u'its')),\n",
       " (1.9086379256898788e-06, (u'--', u'and')),\n",
       " (1.9067750763389967e-06, (u'of', u'its')),\n",
       " (1.9053149436432424e-06, (u'came', u'to')),\n",
       " (1.894620053736477e-06, (u'way', u'to')),\n",
       " (1.8681105182973734e-06, (u',', u'we')),\n",
       " (1.856045139017781e-06, (u'he', u'knew')),\n",
       " (1.8546396702407027e-06, (u'the', u'city')),\n",
       " (1.850844170025949e-06, (u'that', u'we')),\n",
       " (1.8488758008491036e-06, (u'to', u'the')),\n",
       " (1.824437981879682e-06, (u'this', u'time')),\n",
       " (1.815105306359524e-06, (u',', u'while')),\n",
       " (1.8110611980020216e-06, (u'about', u'the')),\n",
       " (1.8069883467321519e-06, (u'the', u'church')),\n",
       " (1.8044906554451407e-06, (u',', u'including')),\n",
       " (1.7913880809396906e-06, (u'a', u'large')),\n",
       " (1.758394895237451e-06, (u'the', u'president')),\n",
       " (1.7427340789520845e-06, (u'.', u'now')),\n",
       " (1.732222866469853e-06, (u'.', u'the')),\n",
       " (1.7280093583737201e-06, (u'have', u'a')),\n",
       " (1.7254107325409472e-06, (u'that', u'the')),\n",
       " (1.7181048265430314e-06, (u'that', u'is')),\n",
       " (1.7102683998419067e-06, (u'.', u'since')),\n",
       " (1.7031482250640772e-06, (u'toward', u'the')),\n",
       " (1.7030318422398432e-06, (u'this', u'was')),\n",
       " (1.7004211740817107e-06, (u'the', u'two')),\n",
       " (1.6983942145899473e-06, (u'you', u'have')),\n",
       " (1.6954763859585212e-06, (u'that', u'there')),\n",
       " (1.6874390412646343e-06, (u'have', u'to')),\n",
       " (1.6616567715005923e-06, (u'which', u'are')),\n",
       " (1.6612315019532495e-06, (u',', u'if')),\n",
       " (1.6541274615484288e-06, (u'in', u'an')),\n",
       " (1.6398793260413366e-06, (u'is', u'an')),\n",
       " (1.6244831106682434e-06, (u'of', u'a')),\n",
       " (1.6140356540475978e-06, (u'with', u'an')),\n",
       " (1.612833406522318e-06, (u'.', u'one')),\n",
       " (1.5736219756595014e-06, (u'which', u'was')),\n",
       " (1.5715560096537543e-06, (u'all', u'the')),\n",
       " (1.5618659025142858e-06, (u'to', u'him')),\n",
       " (1.5346722261446952e-06, (u'the', u'entire')),\n",
       " (1.5188179203690774e-06, (u'.', u'what')),\n",
       " (1.5182099380702364e-06, (u'that', u'she')),\n",
       " (1.5127636045319054e-06, (u'within', u'the')),\n",
       " (1.5118901521091084e-06, (u'had', u'to')),\n",
       " (1.5107154040925066e-06, (u'after', u'the')),\n",
       " (1.5039327842307634e-06, (u'a', u'single')),\n",
       " (1.5006619289005308e-06, (u';', u'and')),\n",
       " (1.4993247718342071e-06, (u'.', u'yet')),\n",
       " (1.488885951128392e-06, (u'you', u\"''\")),\n",
       " (1.4805849175789137e-06, (u'be', u'a')),\n",
       " (1.4747780689440313e-06, (u'for', u'this')),\n",
       " (1.4595011321497095e-06, (u',', u'so')),\n",
       " (1.4515963135536515e-06, (u',', u'there')),\n",
       " (1.4450908817655543e-06, (u'him', u'to')),\n",
       " (1.442688142219061e-06, (u'.', u'in')),\n",
       " (1.4253980743771767e-06, (u',', u'they')),\n",
       " (1.42313202062859e-06, (u'.', u'(')),\n",
       " (1.4224313066085824e-06, (u'but', u'there')),\n",
       " (1.4206706264764045e-06, (u'i', u'can')),\n",
       " (1.4184733105369725e-06, (u'of', u'all')),\n",
       " (1.4176305609394013e-06, (u'i', u'know')),\n",
       " (1.3963692853661272e-06, (u'again', u',')),\n",
       " (1.3784019785931454e-06, (u',', u'because')),\n",
       " (1.3737827303735512e-06, (u'from', u'his')),\n",
       " (1.3659369270753956e-06, (u'of', u'her')),\n",
       " (1.364718471657849e-06, (u'the', u'present')),\n",
       " (1.357250500033705e-06, (u'went', u'to')),\n",
       " (1.3504611395505905e-06, (u'the', u'time')),\n",
       " (1.3322253926333072e-06, (u'at', u'a')),\n",
       " (1.3318580949595091e-06, (u'from', u'a')),\n",
       " (1.328736246287115e-06, (u'him', u',')),\n",
       " (1.3248380879560986e-06, (u',', u'it')),\n",
       " (1.3154636809471166e-06, (u'and', u'i')),\n",
       " (1.3081910087159843e-06, (u'before', u'the')),\n",
       " (1.2997419314664437e-06, (u'of', u'an')),\n",
       " (1.29717070229368e-06, (u'since', u'the')),\n",
       " (1.2918068345215394e-06, (u'the', u'only')),\n",
       " (1.2788185831760839e-06, (u'as', u'the')),\n",
       " (1.2679796560186105e-06, (u'the', u'great')),\n",
       " (1.2670662645843053e-06, (u'then', u',')),\n",
       " (1.2605660412136372e-06, (u'is', u'that')),\n",
       " (1.2600588594005811e-06, (u',', u'even')),\n",
       " (1.250579174480181e-06, (u'.', u'no')),\n",
       " (1.2455279757160369e-06, (u'than', u'the')),\n",
       " (1.2430713992914576e-06, (u'had', u'a')),\n",
       " (1.242861324460392e-06, (u',', u'when')),\n",
       " (1.2422218280238289e-06, (u'well', u',')),\n",
       " (1.2417787251629614e-06, (u',', u'with')),\n",
       " (1.2414955748622553e-06, (u'upon', u'the')),\n",
       " (1.2393857051287971e-06, (u'now', u',')),\n",
       " (1.2240345656869625e-06, (u'to', u'his')),\n",
       " (1.215481342766549e-06, (u'he', u'thought')),\n",
       " (1.2126984075652978e-06, (u'who', u'are')),\n",
       " (1.205090712902141e-06, (u'for', u'his')),\n",
       " (1.2008723136486344e-06, (u'if', u'we')),\n",
       " (1.1998604962196395e-06, (u'many', u'of')),\n",
       " (1.196388016150562e-06, (u'if', u'the')),\n",
       " (1.1951193404604014e-06, (u'.', u'even')),\n",
       " (1.1947572005882984e-06, (u'``', u'we')),\n",
       " (1.1939676413060704e-06, (u'at', u'this')),\n",
       " (1.1838738621862302e-06, (u'only', u'a')),\n",
       " (1.1640245787669888e-06, (u'the', u'following')),\n",
       " (1.1554939021850086e-06, (u'the', u'west')),\n",
       " (1.1540182127915234e-06, (u'time', u'.')),\n",
       " (1.149718131430188e-06, (u'down', u'the')),\n",
       " (1.1470535584425458e-06, (u'and', u'he')),\n",
       " (1.1174717814766618e-06, (u'as', u'it')),\n",
       " (1.1147039368888198e-06, (u'.', u'some')),\n",
       " (1.109396332427087e-06, (u'the', u'public')),\n",
       " (1.0985389432055366e-06, (u'of', u'those')),\n",
       " (1.0957697389571064e-06, (u'the', u'right')),\n",
       " (1.0934880952968263e-06, (u'around', u'the')),\n",
       " (1.0919077238036069e-06, (u'it', u'.')),\n",
       " (1.0868759262508918e-06, (u'.', u'as')),\n",
       " (1.0810083981101463e-06, (u'in', u'any')),\n",
       " (1.0764941291666213e-06, (u',', u'mr.')),\n",
       " (1.07275727326213e-06, (u'time', u',')),\n",
       " (1.062969151818422e-06, (u'and', u'the')),\n",
       " (1.059905952835279e-06, (u'the', u'government')),\n",
       " (1.0532375903870705e-06, (u',', u'for')),\n",
       " (1.042677484561422e-06, (u'only', u'one')),\n",
       " (1.0353936795646202e-06, (u'and', u'his')),\n",
       " (1.006668001061028e-06, (u'where', u'the')),\n",
       " (1.0047730547808968e-06, (u'time', u'to')),\n",
       " (9.99672891940355e-07, (u'.', u'at')),\n",
       " (9.94612550871324e-07, (u'the', u'man')),\n",
       " (9.82558749495585e-07, (u'is', u'the')),\n",
       " (9.732793793592054e-07, (u'.', u'his')),\n",
       " (9.678990971240618e-07, (u'up', u'the')),\n",
       " (9.600967436149833e-07, (u'in', u'my')),\n",
       " (9.527414000797522e-07, (u'world', u'.')),\n",
       " (9.505109873952007e-07, (u'that', u'i')),\n",
       " (9.435652047589531e-07, (u'.', u'you')),\n",
       " (9.395094522985785e-07, (u'but', u'the')),\n",
       " (9.290282640004305e-07, (u'.', u'so')),\n",
       " (9.249637352551531e-07, (u'too', u',')),\n",
       " (9.213250843478059e-07, (u'to', u'a')),\n",
       " (9.204113410324208e-07, (u'fact', u',')),\n",
       " (9.183242536905861e-07, (u'.', u'for')),\n",
       " (9.033026817245605e-07, (u',', u'the')),\n",
       " (8.911571916987504e-07, (u'than', u'a')),\n",
       " (8.876195789308615e-07, (u',', u'a')),\n",
       " (8.874565621707694e-07, (u'had', u'not')),\n",
       " (8.854380481206258e-07, (u'me', u',')),\n",
       " (8.840385834411732e-07, (u'2', u',')),\n",
       " (8.827672483262102e-07, (u'but', u'they')),\n",
       " (8.69611428626642e-07, (u'will', u'not')),\n",
       " (8.688459640367279e-07, (u'to', u'her')),\n",
       " (8.675433450909808e-07, (u'the', u'problem')),\n",
       " (8.641614864049694e-07, (u'of', u'such')),\n",
       " (8.609742245280027e-07, (u'in', u'our')),\n",
       " (8.572359284722341e-07, (u'it', u\"''\")),\n",
       " (8.341227778106313e-07, (u'them', u',')),\n",
       " (8.181647139081765e-07, (u'in', u'her')),\n",
       " (8.14355089583584e-07, (u'who', u'was')),\n",
       " (8.093671322217176e-07, (u',', u'like')),\n",
       " (7.967462269736011e-07, (u'.', u'during')),\n",
       " (7.769945830104292e-07, (u'and', u'a')),\n",
       " (7.761077351558353e-07, (u',', u'in')),\n",
       " (7.693779127565839e-07, (u'that', u'was')),\n",
       " (7.669459040955735e-07, (u'man', u',')),\n",
       " (7.653459262676394e-07, (u'.', u'a')),\n",
       " (7.652542812434191e-07, (u'life', u'.')),\n",
       " (7.595695791907659e-07, (u'all', u'of')),\n",
       " (7.456146673340746e-07, (u'front', u'of')),\n",
       " (7.378474888458909e-07, (u'me', u'.')),\n",
       " (7.30362925058441e-07, (u',', u'you')),\n",
       " (7.246462870633931e-07, (u'along', u'the')),\n",
       " (7.242967893009776e-07, (u'for', u'him')),\n",
       " (7.241493316420295e-07, (u'in', u'some')),\n",
       " (7.124913992109667e-07, (u'they', u'would')),\n",
       " (7.082022864019204e-07, (u',', u'one')),\n",
       " (7.014299438514097e-07, (u'the', u'rest')),\n",
       " (6.894238818211822e-07, (u'it', u'had')),\n",
       " (6.889291835913603e-07, (u'we', u'were')),\n",
       " (6.82029914966536e-07, (u'.', u'all')),\n",
       " (6.741495988039431e-07, (u',', u'mrs.')),\n",
       " (6.717065110253575e-07, (u'not', u'to')),\n",
       " (6.674943596726608e-07, (u'come', u'to')),\n",
       " (6.674766807676901e-07, (u'as', u'i')),\n",
       " (6.67307234783481e-07, (u'again', u'.')),\n",
       " (6.6344073088152e-07, (u',', u'that')),\n",
       " (6.604761702949742e-07, (u'that', u'this')),\n",
       " (6.556346721084461e-07, (u',', u'said')),\n",
       " (6.496197775442034e-07, (u'--', u'the')),\n",
       " (6.486031581740247e-07, (u'off', u'the')),\n",
       " (6.467574599161285e-07, (u'year', u'.')),\n",
       " (6.441605557301947e-07, (u'she', u'would')),\n",
       " (6.421647058286294e-07, (u'i', u'would')),\n",
       " (6.406613433990024e-07, (u'--', u'a')),\n",
       " (6.359182866775462e-07, (u',', u'is')),\n",
       " (6.358566466640296e-07, (u'the', u'number')),\n",
       " (6.313105008527111e-07, (u'.', u'although')),\n",
       " (6.302307180124036e-07, (u'to', u'their')),\n",
       " (6.268261011391436e-07, (u'the', u'latter')),\n",
       " (6.246674946981347e-07, (u'was', u'the')),\n",
       " (6.199164109877394e-07, (u'``', u'but')),\n",
       " (6.126356743153424e-07, (u'is', u'to')),\n",
       " (6.097764311881589e-07, (u'the', u'national')),\n",
       " (6.095556564572964e-07, (u',', u'was')),\n",
       " (6.025606954925157e-07, (u'?', u'he'))]"
      ]
     },
     "execution_count": 7,
     "metadata": {},
     "output_type": "execute_result"
    }
   ],
   "source": [
    "delta = 100  # You can play with this hyperparameter to see how it affects the results.\n",
    "unigrams, bigrams = word_utils.unigram_and_bigram_counts(words)\n",
    "scored_bigrams = sorted(\n",
    "    [(word_stream.score_bigram(bigram, unigrams, bigrams, delta), bigram) for bigram in bigrams],\n",
    "    reverse=True)\n",
    "scored_bigrams[0:500]"
   ]
  },
  {
   "cell_type": "markdown",
   "metadata": {},
   "source": [
    "This next cell uses the scores computed above and calls grouped_stream which takes a list of words and a set of n-grams and returns the list of words with those n-grams combined into single tokens.\n",
    "\n",
    "e.g. ['the', 'supreme', 'court'] => ['the', 'supreme_court']\n",
    "\n",
    "(You can find more examples in the tests for the function in word_stream_test.py.)"
   ]
  },
  {
   "cell_type": "code",
   "execution_count": 8,
   "metadata": {
    "collapsed": false
   },
   "outputs": [],
   "source": [
    "# You can leave this cell alone.\n",
    "\n",
    "# If you want to come back afterwards, you can experiment with different phrase_thresholds.\n",
    "# You should set phrase_threshold to a value at which the bigrams in the previous\n",
    "# output start looking less tightly coupled.  grouped_stream below will re-tokenize\n",
    "# a stream of words to consider bigrams scoring above phrase_threshold as a single token.\n",
    "\n",
    "phrase_threshold = 1.0\n",
    "phrases = [bigram for score, bigram in scored_bigrams if score >= phrase_threshold]\n",
    "words = word_utils.grouped_stream(words, phrases)"
   ]
  },
  {
   "cell_type": "code",
   "execution_count": 9,
   "metadata": {
    "collapsed": true
   },
   "outputs": [],
   "source": [
    "# Cleanup some variables to recover some memory.\n",
    "del unigrams\n",
    "del bigrams\n",
    "del scored_bigrams\n",
    "del phrases"
   ]
  },
  {
   "cell_type": "markdown",
   "metadata": {},
   "source": [
    "## 3. TensorFlow for GloVe\n",
    "\n",
    "### Cooccurrence Table\n",
    "In this section, we first build the cooccurrence table with context window of size C."
   ]
  },
  {
   "cell_type": "code",
   "execution_count": 10,
   "metadata": {
    "collapsed": false
   },
   "outputs": [],
   "source": [
    "VOCAB_SIZE = 20000  # Amount of vocabulary to keep.  Lower frequency words are mapped to <UNK> (word id: 0).\n",
    "\n",
    "# Map each of the words to a wordid.  Only the most popular VOCAB_SIZE words are kept.\n",
    "vocabulary = word_utils.Vocabulary(words, VOCAB_SIZE)"
   ]
  },
  {
   "cell_type": "code",
   "execution_count": 11,
   "metadata": {
    "collapsed": false
   },
   "outputs": [],
   "source": [
    "# Convert the word stream to wordids.\n",
    "# We need to do this because the TensorFlow code you will write in the\n",
    "# next section will use an API that expects indexes into the embedding\n",
    "# matrix, not words.\n",
    "wordids = [vocabulary.to_id(word) for word in words]"
   ]
  },
  {
   "cell_type": "code",
   "execution_count": 12,
   "metadata": {
    "collapsed": false
   },
   "outputs": [],
   "source": [
    "# Building the cooccurrence table takes a considerable amount of time\n",
    "# with the Wikipedia set.\n",
    "\n",
    "C = 10  # Context window size.\n",
    "ctable = word_stream.cooccurrence_table(wordids, C)"
   ]
  },
  {
   "cell_type": "code",
   "execution_count": 13,
   "metadata": {
    "collapsed": false,
    "scrolled": true
   },
   "outputs": [
    {
     "data": {
      "text/plain": [
       "[(u'of', u'the', 22187.71547619093),\n",
       " (u'the', u'of', 22187.71547619093),\n",
       " (u'.', u'the', 17805.282142859643),\n",
       " (u'the', u'.', 17805.282142859643),\n",
       " (u',', u'the', 16941.070634924017),\n",
       " (u'the', u',', 16939.42777778116),\n",
       " (u',', '<UNK>', 16120.215476192945),\n",
       " ('<UNK>', u',', 16119.501587304056),\n",
       " (u'the', u'the', 15484.114285719763),\n",
       " (u',', u',', 15118.108730162476)]"
      ]
     },
     "execution_count": 13,
     "metadata": {},
     "output_type": "execute_result"
    }
   ],
   "source": [
    "# Output top words occurring within the same context.\n",
    "# If everything has worked properly, you should see a considerable number of \"<UNK>\", \"the\", \"of\", and numbers.\n",
    "\n",
    "sorted([(vocabulary.to_word(word), vocabulary.to_word(context_word), count) \n",
    "        for word, context_word, count in ctable if count > len(words) / 100\n",
    "       ], key=lambda x: x[2], reverse=True)[:10]"
   ]
  },
  {
   "cell_type": "code",
   "execution_count": 14,
   "metadata": {
    "collapsed": false
   },
   "outputs": [],
   "source": [
    "# Shard the table into word lists, context word lists and corresponding counts.\n",
    "# We are going to provide these to TensorFlow as their own entry in the feed_dict,\n",
    "# so we do this separation once, up front.\n",
    "ctable_wids = np.array([word for word, _, _ in ctable])\n",
    "ctable_cwids = np.array([context_word for _, context_word, _ in ctable])\n",
    "ctable_counts = np.array([count for _, _, count in ctable])"
   ]
  },
  {
   "cell_type": "code",
   "execution_count": 15,
   "metadata": {
    "collapsed": false
   },
   "outputs": [
    {
     "data": {
      "text/plain": [
       "[(0, 0, 12324.545238096805),\n",
       " (0, 1, 284.87619047619023),\n",
       " (0, 2, 1.0523809523809524),\n",
       " (0, 3, 1.5833333333333333),\n",
       " (0, 4, 0.75)]"
      ]
     },
     "execution_count": 15,
     "metadata": {},
     "output_type": "execute_result"
    }
   ],
   "source": [
    "# Here is what our final data looks like.  It's similar to the table two\n",
    "# cells previous, except instead of words, there are wordids.\n",
    "zip(ctable_wids[:5], ctable_cwids[:5], ctable_counts[:5])"
   ]
  },
  {
   "cell_type": "markdown",
   "metadata": {},
   "source": [
    "### TensorFlow Graph Setup (12 points)\n",
    "\n",
    "Complete the functions in **glove.py** using the TensorFlow API and then run the corresponding tests in the cells below."
   ]
  },
  {
   "cell_type": "code",
   "execution_count": 16,
   "metadata": {
    "collapsed": false
   },
   "outputs": [
    {
     "name": "stderr",
     "output_type": "stream",
     "text": [
      "test_embedding_lookup (glove_test.TestGlove) ... ok\n",
      "\n",
      "----------------------------------------------------------------------\n",
      "Ran 1 test in 0.158s\n",
      "\n",
      "OK\n"
     ]
    },
    {
     "data": {
      "text/plain": [
       "<unittest.runner.TextTestResult run=1 errors=0 failures=0>"
      ]
     },
     "execution_count": 16,
     "metadata": {},
     "output_type": "execute_result"
    }
   ],
   "source": [
    "reload(glove)\n",
    "reload(glove_test)\n",
    "unittest.TextTestRunner(verbosity=2).run(\n",
    "    unittest.TestLoader().loadTestsFromName(\n",
    "        'TestGlove.test_embedding_lookup', glove_test))"
   ]
  },
  {
   "cell_type": "code",
   "execution_count": 17,
   "metadata": {
    "collapsed": false
   },
   "outputs": [
    {
     "name": "stderr",
     "output_type": "stream",
     "text": [
      "test_example_weight (glove_test.TestGlove) ... ok\n",
      "\n",
      "----------------------------------------------------------------------\n",
      "Ran 1 test in 0.017s\n",
      "\n",
      "OK\n"
     ]
    },
    {
     "data": {
      "text/plain": [
       "<unittest.runner.TextTestResult run=1 errors=0 failures=0>"
      ]
     },
     "execution_count": 17,
     "metadata": {},
     "output_type": "execute_result"
    }
   ],
   "source": [
    "reload(glove)\n",
    "reload(glove_test)\n",
    "unittest.TextTestRunner(verbosity=2).run(\n",
    "    unittest.TestLoader().loadTestsFromName(\n",
    "        'TestGlove.test_example_weight', glove_test))"
   ]
  },
  {
   "cell_type": "code",
   "execution_count": 18,
   "metadata": {
    "collapsed": false
   },
   "outputs": [
    {
     "name": "stderr",
     "output_type": "stream",
     "text": [
      "test_loss (glove_test.TestGlove) ... ok\n",
      "\n",
      "----------------------------------------------------------------------\n",
      "Ran 1 test in 0.069s\n",
      "\n",
      "OK\n"
     ]
    },
    {
     "data": {
      "text/plain": [
       "<unittest.runner.TextTestResult run=1 errors=0 failures=0>"
      ]
     },
     "execution_count": 18,
     "metadata": {},
     "output_type": "execute_result"
    }
   ],
   "source": [
    "reload(glove)\n",
    "reload(glove_test)\n",
    "unittest.TextTestRunner(verbosity=2).run(\n",
    "    unittest.TestLoader().loadTestsFromName(\n",
    "        'TestGlove.test_loss', glove_test))"
   ]
  },
  {
   "cell_type": "code",
   "execution_count": 19,
   "metadata": {
    "collapsed": false
   },
   "outputs": [],
   "source": [
    "# Hyperparameters.\n",
    "\n",
    "# You may want to shrink num_examples_to_train to finish debugging\n",
    "# and only run it this long once you are training on Wikipedia.\n",
    "learning_rate = 0.003\n",
    "num_examples_to_train = 3e8\n",
    "batch_size = 100\n",
    "embedding_dim = 300\n",
    "\n",
    "# Construct the training graph.\n",
    "tf.reset_default_graph()\n",
    "\n",
    "wids_ph = tf.placeholder(tf.int32, shape=[None])\n",
    "c_wids_ph = tf.placeholder(tf.int32, shape=[None])\n",
    "counts_ph = tf.placeholder(tf.float32, shape=[None])\n",
    "\n",
    "with tf.variable_scope('word_embeddings'):\n",
    "    word_embeddings, word_bias, word_embed_matrix = (\n",
    "        glove.wordids_to_tensors(wids_ph, embedding_dim, vocabulary.size()))\n",
    "with tf.variable_scope('word_context_embeddings'):\n",
    "    word_context_embeddings, word_context_bias, word_context_embed_matrix = (\n",
    "        glove.wordids_to_tensors(c_wids_ph, embedding_dim, vocabulary.size()))\n",
    "    \n",
    "losses = glove.loss(\n",
    "    word_embeddings, word_bias, word_context_embeddings, word_context_bias,\n",
    "    tf.cast(counts_ph, tf.float32))\n",
    "loss = tf.reduce_mean(losses)\n",
    "\n",
    "# Adam is similar to AdaGrad in that it handles sparse gradients well.\n",
    "# Specifically, you may imagine that some words appear with more context\n",
    "# words than others and with bigger counts.  They therefore are updated\n",
    "# more often and more aggressively (remember the weighting function\n",
    "# you implemented).  Adam backs off updating parameters that it has already\n",
    "# significantly moved around.  (intuitively: the 500th time you backprop\n",
    "# into \"the\", you probably don't have a lot more information to add).\n",
    "#\n",
    "# Here is the original University of Toronto paper detailing the word\n",
    "# done in collaboration with Google DeepMind.\n",
    "# https://arxiv.org/pdf/1412.6980v8.pdf\n",
    "optimizer = tf.train.AdamOptimizer(learning_rate=learning_rate)\n",
    "train_op = optimizer.minimize(loss)"
   ]
  },
  {
   "cell_type": "markdown",
   "metadata": {},
   "source": [
    "### Train the Embeddings"
   ]
  },
  {
   "cell_type": "code",
   "execution_count": 20,
   "metadata": {
    "collapsed": false
   },
   "outputs": [],
   "source": [
    "# Train the embeddings.\n",
    "# Set up the session & initialize variables.\n",
    "sess = tf.Session()\n",
    "sess.run(tf.initialize_all_variables())"
   ]
  },
  {
   "cell_type": "code",
   "execution_count": 22,
   "metadata": {
    "collapsed": false,
    "scrolled": true
   },
   "outputs": [
    {
     "name": "stdout",
     "output_type": "stream",
     "text": [
      "# training examples: 4923888\n",
      "# of epochs: 60.9274622006\n",
      "# batches: 3000001.0\n",
      "Initial loss: 0.912657\n",
      "0 : 1.05187\n",
      "Expected time left: 91.0055033314 hours ( 109.242981911 seconds per 1000 batches).\n",
      "1000 : 0.73276\n",
      "Expected time left: 89.4646536253 hours ( 107.429167986 seconds per 1000 batches).\n",
      "2000 : 0.738435\n",
      "Expected time left: 87.1314669563 hours ( 104.662387848 seconds per 1000 batches).\n",
      "3000 : 0.647095\n"
     ]
    },
    {
     "ename": "KeyboardInterrupt",
     "evalue": "",
     "output_type": "error",
     "traceback": [
      "\u001b[0;31m---------------------------------------------------------------------------\u001b[0m",
      "\u001b[0;31mKeyboardInterrupt\u001b[0m                         Traceback (most recent call last)",
      "\u001b[0;32m<ipython-input-22-09f97c6fb548>\u001b[0m in \u001b[0;36m<module>\u001b[0;34m()\u001b[0m\n\u001b[1;32m     33\u001b[0m \u001b[0;32mfor\u001b[0m \u001b[0mbatch\u001b[0m \u001b[0;32min\u001b[0m \u001b[0mxrange\u001b[0m\u001b[0;34m(\u001b[0m\u001b[0mint\u001b[0m\u001b[0;34m(\u001b[0m\u001b[0mnum_batches\u001b[0m\u001b[0;34m)\u001b[0m\u001b[0;34m)\u001b[0m\u001b[0;34m:\u001b[0m\u001b[0;34m\u001b[0m\u001b[0m\n\u001b[1;32m     34\u001b[0m     \u001b[0;31m# Train based on randomly sampled batches of examples.\u001b[0m\u001b[0;34m\u001b[0m\u001b[0;34m\u001b[0m\u001b[0m\n\u001b[0;32m---> 35\u001b[0;31m     \u001b[0mloss_val\u001b[0m\u001b[0;34m,\u001b[0m \u001b[0m_\u001b[0m \u001b[0;34m=\u001b[0m \u001b[0msess\u001b[0m\u001b[0;34m.\u001b[0m\u001b[0mrun\u001b[0m\u001b[0;34m(\u001b[0m\u001b[0;34m[\u001b[0m\u001b[0mloss\u001b[0m\u001b[0;34m,\u001b[0m \u001b[0mtrain_op\u001b[0m\u001b[0;34m]\u001b[0m\u001b[0;34m,\u001b[0m \u001b[0mfeed_dict\u001b[0m\u001b[0;34m=\u001b[0m\u001b[0mmake_feed_dict\u001b[0m\u001b[0;34m(\u001b[0m\u001b[0mbatch_size\u001b[0m\u001b[0;34m)\u001b[0m\u001b[0;34m)\u001b[0m\u001b[0;34m\u001b[0m\u001b[0m\n\u001b[0m\u001b[1;32m     36\u001b[0m \u001b[0;34m\u001b[0m\u001b[0m\n\u001b[1;32m     37\u001b[0m     \u001b[0;31m# Do some basic reporting as training progresses.\u001b[0m\u001b[0;34m\u001b[0m\u001b[0;34m\u001b[0m\u001b[0m\n",
      "\u001b[0;32m/usr/local/Cellar/python/2.7.8_2/Frameworks/Python.framework/Versions/2.7/lib/python2.7/site-packages/tensorflow/python/client/session.pyc\u001b[0m in \u001b[0;36mrun\u001b[0;34m(self, fetches, feed_dict, options, run_metadata)\u001b[0m\n\u001b[1;32m    708\u001b[0m     \u001b[0;32mtry\u001b[0m\u001b[0;34m:\u001b[0m\u001b[0;34m\u001b[0m\u001b[0m\n\u001b[1;32m    709\u001b[0m       result = self._run(None, fetches, feed_dict, options_ptr,\n\u001b[0;32m--> 710\u001b[0;31m                          run_metadata_ptr)\n\u001b[0m\u001b[1;32m    711\u001b[0m       \u001b[0;32mif\u001b[0m \u001b[0mrun_metadata\u001b[0m\u001b[0;34m:\u001b[0m\u001b[0;34m\u001b[0m\u001b[0m\n\u001b[1;32m    712\u001b[0m         \u001b[0mproto_data\u001b[0m \u001b[0;34m=\u001b[0m \u001b[0mtf_session\u001b[0m\u001b[0;34m.\u001b[0m\u001b[0mTF_GetBuffer\u001b[0m\u001b[0;34m(\u001b[0m\u001b[0mrun_metadata_ptr\u001b[0m\u001b[0;34m)\u001b[0m\u001b[0;34m\u001b[0m\u001b[0m\n",
      "\u001b[0;32m/usr/local/Cellar/python/2.7.8_2/Frameworks/Python.framework/Versions/2.7/lib/python2.7/site-packages/tensorflow/python/client/session.pyc\u001b[0m in \u001b[0;36m_run\u001b[0;34m(self, handle, fetches, feed_dict, options, run_metadata)\u001b[0m\n\u001b[1;32m    906\u001b[0m     \u001b[0;32mif\u001b[0m \u001b[0mfinal_fetches\u001b[0m \u001b[0;32mor\u001b[0m \u001b[0mfinal_targets\u001b[0m\u001b[0;34m:\u001b[0m\u001b[0;34m\u001b[0m\u001b[0m\n\u001b[1;32m    907\u001b[0m       results = self._do_run(handle, final_targets, final_fetches,\n\u001b[0;32m--> 908\u001b[0;31m                              feed_dict_string, options, run_metadata)\n\u001b[0m\u001b[1;32m    909\u001b[0m     \u001b[0;32melse\u001b[0m\u001b[0;34m:\u001b[0m\u001b[0;34m\u001b[0m\u001b[0m\n\u001b[1;32m    910\u001b[0m       \u001b[0mresults\u001b[0m \u001b[0;34m=\u001b[0m \u001b[0;34m[\u001b[0m\u001b[0;34m]\u001b[0m\u001b[0;34m\u001b[0m\u001b[0m\n",
      "\u001b[0;32m/usr/local/Cellar/python/2.7.8_2/Frameworks/Python.framework/Versions/2.7/lib/python2.7/site-packages/tensorflow/python/client/session.pyc\u001b[0m in \u001b[0;36m_do_run\u001b[0;34m(self, handle, target_list, fetch_list, feed_dict, options, run_metadata)\u001b[0m\n\u001b[1;32m    956\u001b[0m     \u001b[0;32mif\u001b[0m \u001b[0mhandle\u001b[0m \u001b[0;32mis\u001b[0m \u001b[0mNone\u001b[0m\u001b[0;34m:\u001b[0m\u001b[0;34m\u001b[0m\u001b[0m\n\u001b[1;32m    957\u001b[0m       return self._do_call(_run_fn, self._session, feed_dict, fetch_list,\n\u001b[0;32m--> 958\u001b[0;31m                            target_list, options, run_metadata)\n\u001b[0m\u001b[1;32m    959\u001b[0m     \u001b[0;32melse\u001b[0m\u001b[0;34m:\u001b[0m\u001b[0;34m\u001b[0m\u001b[0m\n\u001b[1;32m    960\u001b[0m       return self._do_call(_prun_fn, self._session, handle, feed_dict,\n",
      "\u001b[0;32m/usr/local/Cellar/python/2.7.8_2/Frameworks/Python.framework/Versions/2.7/lib/python2.7/site-packages/tensorflow/python/client/session.pyc\u001b[0m in \u001b[0;36m_do_call\u001b[0;34m(self, fn, *args)\u001b[0m\n\u001b[1;32m    963\u001b[0m   \u001b[0;32mdef\u001b[0m \u001b[0m_do_call\u001b[0m\u001b[0;34m(\u001b[0m\u001b[0mself\u001b[0m\u001b[0;34m,\u001b[0m \u001b[0mfn\u001b[0m\u001b[0;34m,\u001b[0m \u001b[0;34m*\u001b[0m\u001b[0margs\u001b[0m\u001b[0;34m)\u001b[0m\u001b[0;34m:\u001b[0m\u001b[0;34m\u001b[0m\u001b[0m\n\u001b[1;32m    964\u001b[0m     \u001b[0;32mtry\u001b[0m\u001b[0;34m:\u001b[0m\u001b[0;34m\u001b[0m\u001b[0m\n\u001b[0;32m--> 965\u001b[0;31m       \u001b[0;32mreturn\u001b[0m \u001b[0mfn\u001b[0m\u001b[0;34m(\u001b[0m\u001b[0;34m*\u001b[0m\u001b[0margs\u001b[0m\u001b[0;34m)\u001b[0m\u001b[0;34m\u001b[0m\u001b[0m\n\u001b[0m\u001b[1;32m    966\u001b[0m     \u001b[0;32mexcept\u001b[0m \u001b[0merrors\u001b[0m\u001b[0;34m.\u001b[0m\u001b[0mOpError\u001b[0m \u001b[0;32mas\u001b[0m \u001b[0me\u001b[0m\u001b[0;34m:\u001b[0m\u001b[0;34m\u001b[0m\u001b[0m\n\u001b[1;32m    967\u001b[0m       \u001b[0mmessage\u001b[0m \u001b[0;34m=\u001b[0m \u001b[0mcompat\u001b[0m\u001b[0;34m.\u001b[0m\u001b[0mas_text\u001b[0m\u001b[0;34m(\u001b[0m\u001b[0me\u001b[0m\u001b[0;34m.\u001b[0m\u001b[0mmessage\u001b[0m\u001b[0;34m)\u001b[0m\u001b[0;34m\u001b[0m\u001b[0m\n",
      "\u001b[0;32m/usr/local/Cellar/python/2.7.8_2/Frameworks/Python.framework/Versions/2.7/lib/python2.7/site-packages/tensorflow/python/client/session.pyc\u001b[0m in \u001b[0;36m_run_fn\u001b[0;34m(session, feed_dict, fetch_list, target_list, options, run_metadata)\u001b[0m\n\u001b[1;32m    945\u001b[0m         return tf_session.TF_Run(session, options,\n\u001b[1;32m    946\u001b[0m                                  \u001b[0mfeed_dict\u001b[0m\u001b[0;34m,\u001b[0m \u001b[0mfetch_list\u001b[0m\u001b[0;34m,\u001b[0m \u001b[0mtarget_list\u001b[0m\u001b[0;34m,\u001b[0m\u001b[0;34m\u001b[0m\u001b[0m\n\u001b[0;32m--> 947\u001b[0;31m                                  status, run_metadata)\n\u001b[0m\u001b[1;32m    948\u001b[0m \u001b[0;34m\u001b[0m\u001b[0m\n\u001b[1;32m    949\u001b[0m     \u001b[0;32mdef\u001b[0m \u001b[0m_prun_fn\u001b[0m\u001b[0;34m(\u001b[0m\u001b[0msession\u001b[0m\u001b[0;34m,\u001b[0m \u001b[0mhandle\u001b[0m\u001b[0;34m,\u001b[0m \u001b[0mfeed_dict\u001b[0m\u001b[0;34m,\u001b[0m \u001b[0mfetch_list\u001b[0m\u001b[0;34m)\u001b[0m\u001b[0;34m:\u001b[0m\u001b[0;34m\u001b[0m\u001b[0m\n",
      "\u001b[0;31mKeyboardInterrupt\u001b[0m: "
     ]
    }
   ],
   "source": [
    "# Important note:  You do not need to run this cell to completion.\n",
    "# Let it train for 30 minutes or so, then interrupt the kernel and see how good\n",
    "# the nearest-neighbors results look.  Run this cell again to pick up from where\n",
    "# you left off.\n",
    "\n",
    "# An hour on the recommended GCE cloud instance gets reasonably good results.\n",
    "# Two hours cleans up the vectors beautifully.\n",
    "\n",
    "REPORT_LOSS_EVERY = 1000\n",
    "EVAL_BATCH_SIZE = 5000\n",
    "\n",
    "indexes = range(len(ctable_wids))\n",
    "\n",
    "def make_feed_dict(feed_dict_batch_size):\n",
    "    batch_idx = random.sample(indexes, feed_dict_batch_size)\n",
    "    batch_wids = ctable_wids[batch_idx]\n",
    "    batch_cwids = ctable_cwids[batch_idx]\n",
    "    batch_counts = ctable_counts[batch_idx]\n",
    "    return {\n",
    "        wids_ph: batch_wids,\n",
    "        c_wids_ph: batch_cwids,\n",
    "        counts_ph: batch_counts\n",
    "    }\n",
    "\n",
    "num_batches = num_examples_to_train / batch_size + 1\n",
    "\n",
    "print '# training examples:', len(ctable_wids)\n",
    "print '# of epochs:', 1.0 * num_examples_to_train / len(ctable_wids)\n",
    "print '# batches:', num_batches\n",
    "print 'Initial loss:', sess.run(loss, feed_dict=make_feed_dict(EVAL_BATCH_SIZE))\n",
    "\n",
    "current_timer = None\n",
    "for batch in xrange(int(num_batches)):\n",
    "    # Train based on randomly sampled batches of examples.\n",
    "    loss_val, _ = sess.run([loss, train_op], feed_dict=make_feed_dict(batch_size))\n",
    "    \n",
    "    # Do some basic reporting as training progresses.\n",
    "    if batch % REPORT_LOSS_EVERY == 0:\n",
    "        if current_timer:\n",
    "            remaining_reporting_cycles = 1.0 * (num_batches - batch) / REPORT_LOSS_EVERY\n",
    "            cycle_time = time.time() - current_timer\n",
    "            print 'Expected time left:', remaining_reporting_cycles * cycle_time / 60 / 60, 'hours (', cycle_time, 'seconds per', REPORT_LOSS_EVERY, 'batches).'\n",
    "        current_timer = time.time()\n",
    "            \n",
    "        print batch, ':', sess.run(loss, feed_dict=make_feed_dict(EVAL_BATCH_SIZE))"
   ]
  },
  {
   "cell_type": "markdown",
   "metadata": {},
   "source": [
    "## Play! (1 point)\n",
    "\n",
    "Congratulations!  You now have some embeddings.  We only trained a short while over not a lot of text, but these still work reasonably well.\n",
    "\n",
    "If you want more compelling vectors, scroll back up to the top of this notebook and follow the instructions to switch the data source to Wikipedia and execute it again.  Note:  training these vectors for a long time is **not required**, but since you've gotten this far, it takes almost no additional effort to see the result of your hard work below.  The longer you run on the Wikipedia set, the nicer your word vectors will be.  As noted in the previous cell, you can let it run for a while, interrupt the kernel, see how things look, and then run that cell again to have it pick up from where it left off.\n",
    "\n",
    "We have a number of suggestions below to get you started exploring the space.  Feel free to try some of your own."
   ]
  },
  {
   "cell_type": "code",
   "execution_count": 23,
   "metadata": {
    "collapsed": true
   },
   "outputs": [],
   "source": [
    "def find_nn_cos(v, Wv, k=10):\n",
    "    \"\"\"Find nearest neighbors, by cosine distance.\"\"\"\n",
    "    Z = np.linalg.norm(Wv, axis=1) * np.linalg.norm(v)\n",
    "    ds = np.dot(Wv, v.T) / Z\n",
    "    nns = np.argsort(-1*ds)[:k]  # sort descending, take best\n",
    "    return nns, ds[nns]  # word indices, distances\n",
    "\n",
    "def show_nns(v, Wv, vocabulary, k=10):\n",
    "    print \"Nearest neighbors:\"\n",
    "    for i, d in zip(*find_nn_cos(v, Wv, k)):\n",
    "        w = vocabulary.to_word(i)\n",
    "        print \"%.03f : \\\"%s\\\"\" % (d, w)\n",
    "        \n",
    "def word_show_nns(word, Wv, vocabulary, k=10):\n",
    "    show_nns(Wv[vocabulary.to_id(word)], Wv, vocabulary, k)"
   ]
  },
  {
   "cell_type": "code",
   "execution_count": 24,
   "metadata": {
    "collapsed": false
   },
   "outputs": [],
   "source": [
    "word_embed_matrix_val, word_context_embed_matrix_val = sess.run([word_embed_matrix, word_context_embed_matrix])\n",
    "\n",
    "# As per the paper, we take the average of the word's vector when it's the center word of the window\n",
    "# and the vector when it's found in the context.\n",
    "#\n",
    "# There is some (handwave-y) motivation for why we do this in section 4.2 of GloVe.\n",
    "Wv = word_embed_matrix_val + word_context_embed_matrix_val"
   ]
  },
  {
   "cell_type": "code",
   "execution_count": 25,
   "metadata": {
    "collapsed": false
   },
   "outputs": [
    {
     "name": "stdout",
     "output_type": "stream",
     "text": [
      "Nearest neighbors:\n",
      "1.000 : \"one\"\n",
      "0.255 : \"mussorgsky\"\n",
      "0.251 : \"type\"\n",
      "0.244 : \"channels\"\n",
      "0.238 : \"stumbled\"\n",
      "0.218 : \"pulley\"\n",
      "0.207 : \"paper\"\n",
      "0.205 : \"given\"\n",
      "0.200 : \"unobtainable\"\n",
      "0.198 : \"shrubs\"\n"
     ]
    }
   ],
   "source": [
    "word_show_nns('one', Wv, vocabulary)"
   ]
  },
  {
   "cell_type": "code",
   "execution_count": 26,
   "metadata": {
    "collapsed": false
   },
   "outputs": [
    {
     "name": "stdout",
     "output_type": "stream",
     "text": [
      "Nearest neighbors:\n",
      "1.000 : \"king\"\n",
      "0.217 : \"mississippi's\"\n",
      "0.210 : \"initials\"\n",
      "0.194 : \"eagles\"\n",
      "0.192 : \"freddy's\"\n",
      "0.187 : \"coveted\"\n",
      "0.187 : \"whirl\"\n",
      "0.184 : \"myths\"\n",
      "0.184 : \"wrongs\"\n",
      "0.182 : \"hamm\"\n"
     ]
    }
   ],
   "source": [
    "word_show_nns('king', Wv, vocabulary)"
   ]
  },
  {
   "cell_type": "code",
   "execution_count": 27,
   "metadata": {
    "collapsed": false
   },
   "outputs": [
    {
     "name": "stdout",
     "output_type": "stream",
     "text": [
      "Nearest neighbors:\n",
      "1.000 : \"car\"\n",
      "0.227 : \"polymerization\"\n",
      "0.218 : \"tshombe\"\n",
      "0.214 : \"loving\"\n",
      "0.202 : \"recognizes\"\n",
      "0.200 : \"jewish\"\n",
      "0.197 : \"jokes\"\n",
      "0.197 : \"already\"\n",
      "0.194 : \"udall\"\n",
      "0.193 : \"unsold\"\n"
     ]
    }
   ],
   "source": [
    "word_show_nns('car', Wv, vocabulary)"
   ]
  },
  {
   "cell_type": "code",
   "execution_count": 28,
   "metadata": {
    "collapsed": false
   },
   "outputs": [
    {
     "name": "stdout",
     "output_type": "stream",
     "text": [
      "Nearest neighbors:\n",
      "1.000 : \"computer\"\n",
      "0.205 : \"catkins\"\n",
      "0.200 : \"sawtimber\"\n",
      "0.196 : \"organize\"\n",
      "0.192 : \"urgency\"\n",
      "0.192 : \"multiple\"\n",
      "0.187 : \"john-and-linda\"\n",
      "0.186 : \"obedience\"\n",
      "0.183 : \"negotiating\"\n",
      "0.181 : \"coney\"\n"
     ]
    }
   ],
   "source": [
    "word_show_nns('computer', Wv, vocabulary)"
   ]
  },
  {
   "cell_type": "code",
   "execution_count": 29,
   "metadata": {
    "collapsed": false
   },
   "outputs": [
    {
     "name": "stdout",
     "output_type": "stream",
     "text": [
      "Nearest neighbors:\n",
      "1.000 : \"college\"\n",
      "0.230 : \"exerts\"\n",
      "0.217 : \"marksmanship\"\n",
      "0.213 : \"become\"\n",
      "0.207 : \"kimmell\"\n",
      "0.205 : \"aloof\"\n",
      "0.193 : \"high-value\"\n",
      "0.192 : \"whitney\"\n",
      "0.192 : \"positively\"\n",
      "0.192 : \"byzantine\"\n"
     ]
    }
   ],
   "source": [
    "word_show_nns('college', Wv, vocabulary)"
   ]
  },
  {
   "cell_type": "code",
   "execution_count": null,
   "metadata": {
    "collapsed": true
   },
   "outputs": [],
   "source": []
  }
 ],
 "metadata": {
  "kernelspec": {
   "display_name": "Python 2",
   "language": "python",
   "name": "python2"
  },
  "language_info": {
   "codemirror_mode": {
    "name": "ipython",
    "version": 2
   },
   "file_extension": ".py",
   "mimetype": "text/x-python",
   "name": "python",
   "nbconvert_exporter": "python",
   "pygments_lexer": "ipython2",
   "version": "2.7.8"
  }
 },
 "nbformat": 4,
 "nbformat_minor": 0
}
