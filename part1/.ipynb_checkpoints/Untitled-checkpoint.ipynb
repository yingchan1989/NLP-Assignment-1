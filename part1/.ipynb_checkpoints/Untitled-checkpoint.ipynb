{
 "cells": [
  {
   "cell_type": "code",
   "execution_count": 40,
   "metadata": {
    "collapsed": false
   },
   "outputs": [
    {
     "data": {
      "text/plain": [
       "[(('are', 'how'), 1.0),\n",
       " (('are', 'today'), 0.5),\n",
       " (('are', 'world'), 0.5),\n",
       " (('are', 'you'), 1.0),\n",
       " (('how', 'are'), 1.0),\n",
       " (('how', 'hello'), 0.5),\n",
       " (('how', 'world'), 1.0),\n",
       " (('how', 'you'), 0.5)]"
      ]
     },
     "execution_count": 40,
     "metadata": {},
     "output_type": "execute_result"
    }
   ],
   "source": [
    "from collections import Counter\n",
    "l = sorted([\n",
    "            ('how', 'are', 1.0),\n",
    "            ('how', 'hello', 0.5),\n",
    "            ('how', 'world', 1.0),\n",
    "            ('how', 'you', 0.5),\n",
    "            ('are', 'world', 0.5),\n",
    "            ('are', 'how', 1.0),\n",
    "            ('are', 'you', 1.0),\n",
    "            ('are', 'today', 0.5),\n",
    "        ])\n",
    "c = Counter()\n",
    "for v in l:\n",
    "    c[v[0], v[1]] += v[2]\n",
    "    \n",
    "sorted(c.iteritems())"
   ]
  },
  {
   "cell_type": "code",
   "execution_count": 53,
   "metadata": {
    "collapsed": false
   },
   "outputs": [
    {
     "name": "stdout",
     "output_type": "stream",
     "text": [
      "[('are', 'how', 1.0), ('are', 'today', 0.5), ('are', 'world', 0.5), ('are', 'you', 1.0), ('how', 'are', 1.0), ('how', 'hello', 0.5), ('how', 'world', 1.0), ('how', 'you', 0.5)]\n"
     ]
    }
   ],
   "source": [
    "import itertools\n",
    "\n",
    "data = sorted([\n",
    "            ('how', 'are', 1.0),\n",
    "            ('how', 'hello', 0.5),\n",
    "            ('how', 'world', 1.0),\n",
    "            ('how', 'you', 0.5),\n",
    "            ('are', 'world', 0.5),\n",
    "            ('are', 'how', 1.0),\n",
    "            ('are', 'you', 1.0),\n",
    "            ('are', 'today', 0.5),\n",
    "        \n",
    "        ])\n",
    "table = []\n",
    "keyfunc = lambda l: (l[0], l[1])\n",
    "data.sort(key=keyfunc)\n",
    "for key, rows in itertools.groupby(data, keyfunc):\n",
    "    table.append((key[0], key[1], sum(r[2] for r in rows)))\n",
    "\n",
    "print table"
   ]
  },
  {
   "cell_type": "code",
   "execution_count": 16,
   "metadata": {
    "collapsed": false
   },
   "outputs": [
    {
     "data": {
      "text/plain": [
       "[]"
      ]
     },
     "execution_count": 16,
     "metadata": {},
     "output_type": "execute_result"
    }
   ],
   "source": [
    "VOCAB_SIZE = 20000  # Amount of vocabulary to keep.  Lower frequency words are mapped to <UNK> (word id: 0).\n",
    "words = [w.lower() for w in nltk.corpus.brown.words()]\n",
    "# Map each of the words to a wordid.  Only the most popular VOCAB_SIZE words are kept.\n",
    "vocabulary = word_utils.Vocabulary(words, VOCAB_SIZE)\n",
    "wordids = [vocabulary.to_id(word) for word in words]\n",
    "\n",
    "\n",
    "C = 2  # Context window size.\n",
    "ctable = cooccurrence_table(wordids, C)\n",
    "sorted([(vocabulary.to_word(word), vocabulary.to_word(context_word), count) for word, context_word, count in ctable if count > len(words) / 100], key=lambda x: x[2], reverse=True)[:10]"
   ]
  },
  {
   "cell_type": "code",
   "execution_count": 90,
   "metadata": {
    "collapsed": false
   },
   "outputs": [
    {
     "name": "stdout",
     "output_type": "stream",
     "text": [
      "0\n"
     ]
    }
   ],
   "source": [
    "unigrams = {'hello': 5, 'world': 3}\n",
    "bigrams = {('hello', 'world'): 8}\n",
    "\n",
    "query = ('OOV', 'world')\n",
    "    \n",
    "if query[0] in unigrams:\n",
    "    unigrams_a = unigrams[query[0]]\n",
    "else:\n",
    "    unigrams_a = 0\n",
    "\n",
    "if query[1] in unigrams:\n",
    "    unigrams_b = unigrams[query[1]]\n",
    "else:\n",
    "    unigrams_b = 0\n",
    "\n",
    "if query in bigrams:\n",
    "    bigram_count = bigrams[query]\n",
    "    score = float(bigram_count - 1)/(unigrams_a * unigrams_b)\n",
    "else:\n",
    "    score = 0\n",
    "    \n",
    "\n",
    "print score\n"
   ]
  },
  {
   "cell_type": "code",
   "execution_count": null,
   "metadata": {
    "collapsed": true
   },
   "outputs": [],
   "source": []
  },
  {
   "cell_type": "code",
   "execution_count": null,
   "metadata": {
    "collapsed": true
   },
   "outputs": [],
   "source": []
  }
 ],
 "metadata": {
  "kernelspec": {
   "display_name": "Python 2",
   "language": "python",
   "name": "python2"
  },
  "language_info": {
   "codemirror_mode": {
    "name": "ipython",
    "version": 2
   },
   "file_extension": ".py",
   "mimetype": "text/x-python",
   "name": "python",
   "nbconvert_exporter": "python",
   "pygments_lexer": "ipython2",
   "version": "2.7.8"
  }
 },
 "nbformat": 4,
 "nbformat_minor": 0
}
